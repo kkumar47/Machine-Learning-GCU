{
 "cells": [
  {
   "cell_type": "markdown",
   "id": "af0e1885",
   "metadata": {},
   "source": [
    "**Import Neccesary Packages**"
   ]
  },
  {
   "cell_type": "code",
   "execution_count": 12,
   "id": "a9293399",
   "metadata": {},
   "outputs": [],
   "source": [
    "import pandas as pd\n",
    "import numpy as np\n",
    "import matplotlib.pyplot as plt\n",
    "from sklearn.model_selection import train_test_split"
   ]
  },
  {
   "cell_type": "markdown",
   "id": "9e5dd46a",
   "metadata": {},
   "source": [
    "**Pandas Demo**"
   ]
  },
  {
   "cell_type": "code",
   "execution_count": 2,
   "id": "b9af925c",
   "metadata": {},
   "outputs": [],
   "source": [
    "# Here we will use Pandas function to read a data file and display the structure and header of the data file.\n",
    "a_pd = pd.read_csv(\"H:/Krishna/GCU/DSC 530/Topic 7/Loans_Training\",sep=',', header=0)"
   ]
  },
  {
   "cell_type": "code",
   "execution_count": 3,
   "id": "2f47f869",
   "metadata": {},
   "outputs": [
    {
     "name": "stdout",
     "output_type": "stream",
     "text": [
      "<class 'pandas.core.frame.DataFrame'>\n",
      "RangeIndex: 150302 entries, 0 to 150301\n",
      "Data columns (total 5 columns):\n",
      " #   Column                Non-Null Count   Dtype  \n",
      "---  ------                --------------   -----  \n",
      " 0   Approval              150302 non-null  object \n",
      " 1   Debt-to-Income Ratio  150302 non-null  float64\n",
      " 2   FICO Score            150302 non-null  int64  \n",
      " 3   Request Amount        150302 non-null  int64  \n",
      " 4   Interest              150302 non-null  float64\n",
      "dtypes: float64(2), int64(2), object(1)\n",
      "memory usage: 5.7+ MB\n"
     ]
    }
   ],
   "source": [
    "a_pd.info()"
   ]
  },
  {
   "cell_type": "code",
   "execution_count": 4,
   "id": "c4f08fc5",
   "metadata": {},
   "outputs": [
    {
     "data": {
      "text/html": [
       "<div>\n",
       "<style scoped>\n",
       "    .dataframe tbody tr th:only-of-type {\n",
       "        vertical-align: middle;\n",
       "    }\n",
       "\n",
       "    .dataframe tbody tr th {\n",
       "        vertical-align: top;\n",
       "    }\n",
       "\n",
       "    .dataframe thead th {\n",
       "        text-align: right;\n",
       "    }\n",
       "</style>\n",
       "<table border=\"1\" class=\"dataframe\">\n",
       "  <thead>\n",
       "    <tr style=\"text-align: right;\">\n",
       "      <th></th>\n",
       "      <th>Approval</th>\n",
       "      <th>Debt-to-Income Ratio</th>\n",
       "      <th>FICO Score</th>\n",
       "      <th>Request Amount</th>\n",
       "      <th>Interest</th>\n",
       "    </tr>\n",
       "  </thead>\n",
       "  <tbody>\n",
       "    <tr>\n",
       "      <th>0</th>\n",
       "      <td>F</td>\n",
       "      <td>0.0</td>\n",
       "      <td>397</td>\n",
       "      <td>1000</td>\n",
       "      <td>450.0</td>\n",
       "    </tr>\n",
       "    <tr>\n",
       "      <th>1</th>\n",
       "      <td>F</td>\n",
       "      <td>0.0</td>\n",
       "      <td>403</td>\n",
       "      <td>500</td>\n",
       "      <td>225.0</td>\n",
       "    </tr>\n",
       "    <tr>\n",
       "      <th>2</th>\n",
       "      <td>F</td>\n",
       "      <td>0.0</td>\n",
       "      <td>408</td>\n",
       "      <td>1000</td>\n",
       "      <td>450.0</td>\n",
       "    </tr>\n",
       "    <tr>\n",
       "      <th>3</th>\n",
       "      <td>F</td>\n",
       "      <td>0.0</td>\n",
       "      <td>408</td>\n",
       "      <td>2000</td>\n",
       "      <td>900.0</td>\n",
       "    </tr>\n",
       "    <tr>\n",
       "      <th>4</th>\n",
       "      <td>F</td>\n",
       "      <td>0.0</td>\n",
       "      <td>411</td>\n",
       "      <td>5000</td>\n",
       "      <td>2250.0</td>\n",
       "    </tr>\n",
       "  </tbody>\n",
       "</table>\n",
       "</div>"
      ],
      "text/plain": [
       "  Approval  Debt-to-Income Ratio  FICO Score  Request Amount  Interest\n",
       "0        F                   0.0         397            1000     450.0\n",
       "1        F                   0.0         403             500     225.0\n",
       "2        F                   0.0         408            1000     450.0\n",
       "3        F                   0.0         408            2000     900.0\n",
       "4        F                   0.0         411            5000    2250.0"
      ]
     },
     "execution_count": 4,
     "metadata": {},
     "output_type": "execute_result"
    }
   ],
   "source": [
    "a_pd.head()"
   ]
  },
  {
   "cell_type": "markdown",
   "id": "d4b1cf9a",
   "metadata": {},
   "source": [
    "**Pyplot - Matplotlib Demo**"
   ]
  },
  {
   "cell_type": "code",
   "execution_count": 8,
   "id": "8b949c3a",
   "metadata": {},
   "outputs": [
    {
     "data": {
      "text/plain": [
       "Text(0.5, 0, 'Samples')"
      ]
     },
     "execution_count": 8,
     "metadata": {},
     "output_type": "execute_result"
    },
    {
     "data": {
      "image/png": "[encoded data removed]",
      "text/plain": [
       "<Figure size 432x288 with 1 Axes>"
      ]
     },
     "metadata": {
      "needs_background": "light"
     },
     "output_type": "display_data"
    }
   ],
   "source": [
    "# Here we will demonstrate the functionality of pyplot from Matplotlib package.\n",
    "plt.plot(a_pd['Interest'])\n",
    "plt.ylabel('Interest Amount')\n",
    "plt.xlabel('Samples')"
   ]
  },
  {
   "cell_type": "markdown",
   "id": "254544cc",
   "metadata": {},
   "source": [
    "**Numpy Demo**"
   ]
  },
  {
   "cell_type": "code",
   "execution_count": 9,
   "id": "ebeafc27",
   "metadata": {},
   "outputs": [
    {
     "data": {
      "text/plain": [
       "dtype('float64')"
      ]
     },
     "execution_count": 9,
     "metadata": {},
     "output_type": "execute_result"
    }
   ],
   "source": [
    "# Here we will demonstrate the array creation using Numpy array function\n",
    "b = np.array([1.2, 3.5, 5.1])\n",
    "b.dtype"
   ]
  },
  {
   "cell_type": "code",
   "execution_count": 10,
   "id": "28c38063",
   "metadata": {},
   "outputs": [
    {
     "name": "stdout",
     "output_type": "stream",
     "text": [
      "[1.2 3.5 5.1]\n"
     ]
    }
   ],
   "source": [
    "print(b)"
   ]
  },
  {
   "cell_type": "markdown",
   "id": "e9893cb2",
   "metadata": {},
   "source": [
    "**SciKit-Learn Demo**"
   ]
  },
  {
   "cell_type": "code",
   "execution_count": 13,
   "id": "eee32100",
   "metadata": {},
   "outputs": [],
   "source": [
    "#We will demonstrate the Scikit-Learn packages functionality by using one of the library to split the data into training set.\n",
    "\n",
    "X_train, X_test = train_test_split(a_pd, test_size=0.2, random_state=123)"
   ]
  },
  {
   "cell_type": "code",
   "execution_count": 15,
   "id": "e4e122dd",
   "metadata": {},
   "outputs": [
    {
     "name": "stdout",
     "output_type": "stream",
     "text": [
      "<class 'pandas.core.frame.DataFrame'>\n",
      "Int64Index: 120241 entries, 138437 to 15725\n",
      "Data columns (total 5 columns):\n",
      " #   Column                Non-Null Count   Dtype  \n",
      "---  ------                --------------   -----  \n",
      " 0   Approval              120241 non-null  object \n",
      " 1   Debt-to-Income Ratio  120241 non-null  float64\n",
      " 2   FICO Score            120241 non-null  int64  \n",
      " 3   Request Amount        120241 non-null  int64  \n",
      " 4   Interest              120241 non-null  float64\n",
      "dtypes: float64(2), int64(2), object(1)\n",
      "memory usage: 5.5+ MB\n"
     ]
    }
   ],
   "source": [
    "X_train.info()"
   ]
  },
  {
   "cell_type": "code",
   "execution_count": 16,
   "id": "3d9635e6",
   "metadata": {},
   "outputs": [
    {
     "name": "stdout",
     "output_type": "stream",
     "text": [
      "<class 'pandas.core.frame.DataFrame'>\n",
      "Int64Index: 30061 entries, 54222 to 145215\n",
      "Data columns (total 5 columns):\n",
      " #   Column                Non-Null Count  Dtype  \n",
      "---  ------                --------------  -----  \n",
      " 0   Approval              30061 non-null  object \n",
      " 1   Debt-to-Income Ratio  30061 non-null  float64\n",
      " 2   FICO Score            30061 non-null  int64  \n",
      " 3   Request Amount        30061 non-null  int64  \n",
      " 4   Interest              30061 non-null  float64\n",
      "dtypes: float64(2), int64(2), object(1)\n",
      "memory usage: 1.4+ MB\n"
     ]
    }
   ],
   "source": [
    "X_test.info()"
   ]
  },
  {
   "cell_type": "code",
   "execution_count": null,
   "id": "911ff49e",
   "metadata": {},
   "outputs": [],
   "source": []
  }
 ],
 "metadata": {
  "kernelspec": {
   "display_name": "Python 3",
   "language": "python",
   "name": "python3"
  },
  "language_info": {
   "codemirror_mode": {
    "name": "ipython",
    "version": 3
   },
   "file_extension": ".py",
   "mimetype": "text/x-python",
   "name": "python",
   "nbconvert_exporter": "python",
   "pygments_lexer": "ipython3",
   "version": "3.8.8"
  }
 },
 "nbformat": 4,
 "nbformat_minor": 5
}
