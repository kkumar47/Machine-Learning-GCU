{
 "cells": [
  {
   "cell_type": "code",
   "execution_count": 13,
   "id": "e8c4299a",
   "metadata": {},
   "outputs": [],
   "source": [
    "import struct\n",
    "import numpy as np\n",
    "from sklearn.neighbors import KNeighborsClassifier\n",
    "import matplotlib.pyplot as plt\n",
    "from sklearn.model_selection import train_test_split\n",
    "from sklearn.metrics import classification_report"
   ]
  },
  {
   "cell_type": "markdown",
   "id": "de9d6e3a",
   "metadata": {},
   "source": [
    "**Data Preparation**"
   ]
  },
  {
   "cell_type": "code",
   "execution_count": 3,
   "id": "60bddc91",
   "metadata": {},
   "outputs": [],
   "source": [
    "# This function is to read the binary training and test MNIST files\n",
    "def read_idx(filename):\n",
    "    with open(filename, 'rb') as f:\n",
    "        zero, data_type, dims= struct.unpack('>HBB', f.read(4))\n",
    "        shape= tuple(struct.unpack('>I', f.read(4))[0] for d in range(dims))\n",
    "        return np.fromstring(f.read(), dtype=np.uint8).reshape(shape)"
   ]
  },
  {
   "cell_type": "code",
   "execution_count": 4,
   "id": "7b339524",
   "metadata": {},
   "outputs": [
    {
     "name": "stderr",
     "output_type": "stream",
     "text": [
      "<ipython-input-3-ad3cd2529e4f>:6: DeprecationWarning: The binary mode of fromstring is deprecated, as it behaves surprisingly on unicode inputs. Use frombuffer instead\n",
      "  return np.fromstring(f.read(), dtype=np.uint8).reshape(shape)\n"
     ]
    }
   ],
   "source": [
    "# Let's load both the test and the training dataset with it.\n",
    "raw_train=read_idx(\"train-images-idx3-ubyte\")\n",
    "raw_test=read_idx(\"t10k-images-idx3-ubyte\")"
   ]
  },
  {
   "cell_type": "markdown",
   "id": "d84c93c3",
   "metadata": {},
   "source": [
    "The handwritten images are of 28 * 28 image format which need to be reshaped into a 2-D array for each images. "
   ]
  },
  {
   "cell_type": "code",
   "execution_count": 5,
   "id": "4d43d297",
   "metadata": {},
   "outputs": [
    {
     "name": "stderr",
     "output_type": "stream",
     "text": [
      "<ipython-input-3-ad3cd2529e4f>:6: DeprecationWarning: The binary mode of fromstring is deprecated, as it behaves surprisingly on unicode inputs. Use frombuffer instead\n",
      "  return np.fromstring(f.read(), dtype=np.uint8).reshape(shape)\n"
     ]
    }
   ],
   "source": [
    "# Let's flatten this trainining image dataset, i.e each entry would be of 28*28 long instead of 2d images.\n",
    "train_data = np.reshape(raw_train, (60000, 28*28))\n",
    "train_label = read_idx(\"train-labels-idx1-ubyte\")"
   ]
  },
  {
   "cell_type": "code",
   "execution_count": 6,
   "id": "36193460",
   "metadata": {},
   "outputs": [
    {
     "name": "stderr",
     "output_type": "stream",
     "text": [
      "<ipython-input-3-ad3cd2529e4f>:6: DeprecationWarning: The binary mode of fromstring is deprecated, as it behaves surprisingly on unicode inputs. Use frombuffer instead\n",
      "  return np.fromstring(f.read(), dtype=np.uint8).reshape(shape)\n"
     ]
    }
   ],
   "source": [
    "# Let's load the test datset and also the the label associated with it.\n",
    "\n",
    "# Let's flatten this trainining image dataset, i.e each entry would be of 28*28 long instead of 2d images.\n",
    "test_data = np.reshape(raw_test, (10000, 28*28))\n",
    "test_label = read_idx(\"t10k-labels-idx1-ubyte\")"
   ]
  },
  {
   "cell_type": "code",
   "execution_count": 135,
   "id": "c7019cac",
   "metadata": {},
   "outputs": [
    {
     "data": {
      "text/plain": [
       "<matplotlib.image.AxesImage at 0x284f4393190>"
      ]
     },
     "execution_count": 135,
     "metadata": {},
     "output_type": "execute_result"
    },
    {
     "data": {
      "image/png": "[encoded data removed]",
      "text/plain": [
       "<Figure size 432x288 with 1 Axes>"
      ]
     },
     "metadata": {
      "needs_background": "light"
     },
     "output_type": "display_data"
    }
   ],
   "source": [
    "# Let's see how the original data looks like from the binary input file look like\n",
    "plt.imshow(raw_train[46794])"
   ]
  },
  {
   "cell_type": "code",
   "execution_count": 8,
   "id": "07a2cbd5",
   "metadata": {},
   "outputs": [
    {
     "data": {
      "text/plain": [
       "5"
      ]
     },
     "execution_count": 8,
     "metadata": {},
     "output_type": "execute_result"
    }
   ],
   "source": [
    "# The corresponding label for the above image can be given as follows\n",
    "train_label[0]"
   ]
  },
  {
   "cell_type": "markdown",
   "id": "e055e2c0",
   "metadata": {},
   "source": [
    "The image above is the number 5 and the label has the actual value in it."
   ]
  },
  {
   "cell_type": "code",
   "execution_count": 9,
   "id": "28bc675d",
   "metadata": {},
   "outputs": [],
   "source": [
    "# Let's break the training dataset into two pieces namely the traing and the validation set\n",
    "trainData,valData,trainLabel,valLabel = train_test_split(train_data,train_label,test_size=0.2,random_state=84)\n"
   ]
  },
  {
   "cell_type": "code",
   "execution_count": 10,
   "id": "15bcc0a4",
   "metadata": {},
   "outputs": [
    {
     "name": "stdout",
     "output_type": "stream",
     "text": [
      "training data points: 48000\n",
      "validation data points: 12000\n"
     ]
    }
   ],
   "source": [
    "print(\"training data points: {}\".format(len(trainData)))\n",
    "print(\"validation data points: {}\".format(len(valData)))\n"
   ]
  },
  {
   "cell_type": "markdown",
   "id": "d0a4f1c9",
   "metadata": {},
   "source": [
    "**K-Nearest Neighbor Classification Model**"
   ]
  },
  {
   "cell_type": "code",
   "execution_count": 328,
   "id": "834ffe4e",
   "metadata": {},
   "outputs": [
    {
     "name": "stdout",
     "output_type": "stream",
     "text": [
      "k=1, accuracy=97.42%\n",
      "k=2, accuracy=96.88%\n",
      "k=3, accuracy=97.50%\n",
      "k=4, accuracy=97.26%\n",
      "k=5, accuracy=97.27%\n",
      "k=6, accuracy=97.22%\n",
      "k=7, accuracy=97.09%\n",
      "k=8, accuracy=97.01%\n",
      "k=9, accuracy=96.89%\n"
     ]
    }
   ],
   "source": [
    "# Let us create a model of Knearest Neighbors classifier and find out which number of neighbors provides a better accurate fit.\n",
    "# In order to do this we train the knn algorithm for different k values and evaluate the accuracy score on the validation dataset\n",
    "\n",
    "n_nei = np.arange(1,10,1)\n",
    "\n",
    "for k in n_nei:\n",
    "    model = KNeighborsClassifier(n_neighbors=k)\n",
    "    model.fit(trainData,trainLabel)\n",
    "    # Evaluate the model and calculate the accuracy\n",
    "    score= model.score(valData, valLabel)\n",
    "    print(\"k=%d, accuracy=%.2f%%\" % (k, score * 100))\n",
    "\n"
   ]
  },
  {
   "cell_type": "markdown",
   "id": "b0de9680",
   "metadata": {},
   "source": [
    "From above we can say that the model predicts with greater accuracy for k = 3 (97.5%). Hence we will build a model with k=3 and predict the results on the test dataset."
   ]
  },
  {
   "cell_type": "code",
   "execution_count": 405,
   "id": "69f1381e",
   "metadata": {},
   "outputs": [
    {
     "data": {
      "text/plain": [
       "KNeighborsClassifier(n_neighbors=3)"
      ]
     },
     "execution_count": 405,
     "metadata": {},
     "output_type": "execute_result"
    }
   ],
   "source": [
    "# Let's build a model with k=3\n",
    "model_f = KNeighborsClassifier(n_neighbors=3, p=2)\n",
    "model_f.fit(trainData,trainLabel)\n",
    "model_f"
   ]
  },
  {
   "cell_type": "code",
   "execution_count": 103,
   "id": "71238042",
   "metadata": {},
   "outputs": [],
   "source": [
    "# Now let's use the fitted model to predict the original test dataset.\n",
    "pred_f = model_f.predict(test_data)"
   ]
  },
  {
   "cell_type": "code",
   "execution_count": 104,
   "id": "23183e76",
   "metadata": {},
   "outputs": [
    {
     "name": "stdout",
     "output_type": "stream",
     "text": [
      "              precision    recall  f1-score   support\n",
      "\n",
      "           0       0.96      0.99      0.98       980\n",
      "           1       0.96      1.00      0.98      1135\n",
      "           2       0.98      0.96      0.97      1032\n",
      "           3       0.96      0.97      0.97      1010\n",
      "           4       0.97      0.96      0.97       982\n",
      "           5       0.97      0.96      0.97       892\n",
      "           6       0.98      0.99      0.99       958\n",
      "           7       0.96      0.96      0.96      1028\n",
      "           8       0.99      0.93      0.96       974\n",
      "           9       0.95      0.96      0.95      1009\n",
      "\n",
      "    accuracy                           0.97     10000\n",
      "   macro avg       0.97      0.97      0.97     10000\n",
      "weighted avg       0.97      0.97      0.97     10000\n",
      "\n"
     ]
    }
   ],
   "source": [
    "# We can print the report of the predicted result as follows\n",
    "print(classification_report(test_label,pred_f))"
   ]
  },
  {
   "cell_type": "markdown",
   "id": "fd1525e3",
   "metadata": {},
   "source": [
    "From above we can say that number 8 has been predicted 99% right while 6 & 2 are predicted 98% right. The overall accuracy of the model is 97%"
   ]
  },
  {
   "cell_type": "code",
   "execution_count": 105,
   "id": "22732fb0",
   "metadata": {},
   "outputs": [],
   "source": [
    "# The distance between the Test data point and it's K nearest neighbors can be given by the kneighbors function along with the k-neighbors\n",
    "kneigh = model_f.kneighbors(test_data, return_distance=True)\n",
    "# This will generate a tuple of 2 rows with 10000 entries in each row, one with the 3 closest training data points and the other their corresponding Euclidean distance. \n"
   ]
  },
  {
   "cell_type": "code",
   "execution_count": 106,
   "id": "d7a84098",
   "metadata": {},
   "outputs": [
    {
     "data": {
      "text/plain": [
       "(array([[ 676.58406721,  793.98677571,  862.67664858],\n",
       "        [1162.9316403 , 1211.84446197, 1285.92845835],\n",
       "        [ 321.66286699,  332.46353183,  341.04838366],\n",
       "        ...,\n",
       "        [ 985.55415884, 1091.54157044, 1159.60036219],\n",
       "        [1313.7682444 , 1335.91616503, 1378.28589197],\n",
       "        [1014.89457581, 1226.16801459, 1350.13665975]]),\n",
       " array([[19297, 31432, 46794],\n",
       "        [27727, 19003, 33558],\n",
       "        [ 6947, 19056, 23293],\n",
       "        ...,\n",
       "        [10536, 19423, 42489],\n",
       "        [14748, 31059, 36296],\n",
       "        [47870, 25599, 30564]], dtype=int64))"
      ]
     },
     "execution_count": 106,
     "metadata": {},
     "output_type": "execute_result"
    }
   ],
   "source": [
    "kneigh\n",
    "# This represents a tuple for all 10000 test images and has two fields. The first attribute provides the 3 closest neighbors for any specific datapoint and the next attribute provides the corresponding euclidean distance with respect to the data point from the test dataset to all it's 3 neighbors."
   ]
  },
  {
   "cell_type": "code",
   "execution_count": 148,
   "id": "3b9d86df",
   "metadata": {},
   "outputs": [
    {
     "name": "stdout",
     "output_type": "stream",
     "text": [
      "[ 6947 19056 23293]\n",
      "[321.66286699 332.46353183 341.04838366]\n"
     ]
    }
   ],
   "source": [
    "# So for example the test data point 2 has three neighbors 6947, 19056 & 23293 (corresponding to Training dataset) and their corresponding elements are provided below\n",
    "x= kneigh[1]\n",
    "y= kneigh[0]\n",
    "print(x[2])\n",
    "print(y[2])"
   ]
  },
  {
   "cell_type": "code",
   "execution_count": 396,
   "id": "92c2ad43",
   "metadata": {},
   "outputs": [],
   "source": [
    "# Here we will split the output of the kneighbors function as two 10000*3 arrays. One having the three neighbors of the test data point and the other the corresponding euclidean distance from them.\n",
    "kneigh_n = pd.DataFrame(list(kneigh)[1])\n",
    "kneigh_e = pd.DataFrame(list(kneigh)[0])"
   ]
  },
  {
   "cell_type": "code",
   "execution_count": 352,
   "id": "80c069aa",
   "metadata": {},
   "outputs": [
    {
     "data": {
      "text/html": [
       "<div>\n",
       "<style scoped>\n",
       "    .dataframe tbody tr th:only-of-type {\n",
       "        vertical-align: middle;\n",
       "    }\n",
       "\n",
       "    .dataframe tbody tr th {\n",
       "        vertical-align: top;\n",
       "    }\n",
       "\n",
       "    .dataframe thead th {\n",
       "        text-align: right;\n",
       "    }\n",
       "</style>\n",
       "<table border=\"1\" class=\"dataframe\">\n",
       "  <thead>\n",
       "    <tr style=\"text-align: right;\">\n",
       "      <th></th>\n",
       "      <th>0</th>\n",
       "      <th>1</th>\n",
       "      <th>2</th>\n",
       "    </tr>\n",
       "  </thead>\n",
       "  <tbody>\n",
       "    <tr>\n",
       "      <th>0</th>\n",
       "      <td>19297</td>\n",
       "      <td>31432</td>\n",
       "      <td>46794</td>\n",
       "    </tr>\n",
       "    <tr>\n",
       "      <th>1</th>\n",
       "      <td>27727</td>\n",
       "      <td>19003</td>\n",
       "      <td>33558</td>\n",
       "    </tr>\n",
       "    <tr>\n",
       "      <th>2</th>\n",
       "      <td>6947</td>\n",
       "      <td>19056</td>\n",
       "      <td>23293</td>\n",
       "    </tr>\n",
       "  </tbody>\n",
       "</table>\n",
       "</div>"
      ],
      "text/plain": [
       "       0      1      2\n",
       "0  19297  31432  46794\n",
       "1  27727  19003  33558\n",
       "2   6947  19056  23293"
      ]
     },
     "execution_count": 352,
     "metadata": {},
     "output_type": "execute_result"
    }
   ],
   "source": [
    "# Samples of 3 datapoints from test dataset and their 3 neighbors \n",
    "kneigh_n[0:3]"
   ]
  },
  {
   "cell_type": "code",
   "execution_count": 353,
   "id": "8f03470a",
   "metadata": {},
   "outputs": [
    {
     "data": {
      "text/html": [
       "<div>\n",
       "<style scoped>\n",
       "    .dataframe tbody tr th:only-of-type {\n",
       "        vertical-align: middle;\n",
       "    }\n",
       "\n",
       "    .dataframe tbody tr th {\n",
       "        vertical-align: top;\n",
       "    }\n",
       "\n",
       "    .dataframe thead th {\n",
       "        text-align: right;\n",
       "    }\n",
       "</style>\n",
       "<table border=\"1\" class=\"dataframe\">\n",
       "  <thead>\n",
       "    <tr style=\"text-align: right;\">\n",
       "      <th></th>\n",
       "      <th>0</th>\n",
       "      <th>1</th>\n",
       "      <th>2</th>\n",
       "    </tr>\n",
       "  </thead>\n",
       "  <tbody>\n",
       "    <tr>\n",
       "      <th>0</th>\n",
       "      <td>676.584067</td>\n",
       "      <td>793.986776</td>\n",
       "      <td>862.676649</td>\n",
       "    </tr>\n",
       "    <tr>\n",
       "      <th>1</th>\n",
       "      <td>1162.931640</td>\n",
       "      <td>1211.844462</td>\n",
       "      <td>1285.928458</td>\n",
       "    </tr>\n",
       "    <tr>\n",
       "      <th>2</th>\n",
       "      <td>321.662867</td>\n",
       "      <td>332.463532</td>\n",
       "      <td>341.048384</td>\n",
       "    </tr>\n",
       "  </tbody>\n",
       "</table>\n",
       "</div>"
      ],
      "text/plain": [
       "             0            1            2\n",
       "0   676.584067   793.986776   862.676649\n",
       "1  1162.931640  1211.844462  1285.928458\n",
       "2   321.662867   332.463532   341.048384"
      ]
     },
     "execution_count": 353,
     "metadata": {},
     "output_type": "execute_result"
    }
   ],
   "source": [
    "# Samples of 3 datapoints from test dataset and their 3 neighbors' euclidean distance from them \n",
    "kneigh_e[0:3]"
   ]
  },
  {
   "cell_type": "code",
   "execution_count": 22,
   "id": "f375539e",
   "metadata": {},
   "outputs": [],
   "source": [
    "# Calculate the Euclidean distance\n",
    "def euc_dist(x1, x2):\n",
    "    return np.sqrt(np.sum((x1-x2)**2))"
   ]
  },
  {
   "cell_type": "code",
   "execution_count": 38,
   "id": "c2d8b5e5",
   "metadata": {},
   "outputs": [
    {
     "data": {
      "text/plain": [
       "141.09571219565817"
      ]
     },
     "execution_count": 38,
     "metadata": {},
     "output_type": "execute_result"
    }
   ],
   "source": [
    "euc_dist(test_data[9999], train_data[9999])\n",
    "\n",
    "# We can calculate the euclidean distance of all the data points from the test dataset with respect to the training dataset using a simple loop statement as shown below\n",
    "# Note: Due to performance the below function has been commented out and the Euclidean distance of one data point with respect to the test and training dataset is show above.\n",
    "#for i in range(len(test_data)):\n",
    "#        dist = np.array([euc_dist(test_data[i], x_t) for x_t in   \n",
    "#        train_data])"
   ]
  },
  {
   "cell_type": "markdown",
   "id": "5c57446e",
   "metadata": {},
   "source": [
    "**Most Popular Neighbor**"
   ]
  },
  {
   "cell_type": "markdown",
   "id": "90832d12",
   "metadata": {},
   "source": [
    "In order to find the most famous neighbor for the test images, we will use the output of the kneighbor function (having k neighbors and their euclidean distance) and pick the 1st closest neighbor and see which had the most number of occurence."
   ]
  },
  {
   "cell_type": "code",
   "execution_count": 397,
   "id": "15ebd9de",
   "metadata": {},
   "outputs": [
    {
     "data": {
      "text/html": [
       "<div>\n",
       "<style scoped>\n",
       "    .dataframe tbody tr th:only-of-type {\n",
       "        vertical-align: middle;\n",
       "    }\n",
       "\n",
       "    .dataframe tbody tr th {\n",
       "        vertical-align: top;\n",
       "    }\n",
       "\n",
       "    .dataframe thead th {\n",
       "        text-align: right;\n",
       "    }\n",
       "</style>\n",
       "<table border=\"1\" class=\"dataframe\">\n",
       "  <thead>\n",
       "    <tr style=\"text-align: right;\">\n",
       "      <th></th>\n",
       "      <th>c</th>\n",
       "      <th>1</th>\n",
       "      <th>2</th>\n",
       "    </tr>\n",
       "  </thead>\n",
       "  <tbody>\n",
       "    <tr>\n",
       "      <th>0</th>\n",
       "      <td>19297</td>\n",
       "      <td>31432</td>\n",
       "      <td>46794</td>\n",
       "    </tr>\n",
       "    <tr>\n",
       "      <th>1</th>\n",
       "      <td>27727</td>\n",
       "      <td>19003</td>\n",
       "      <td>33558</td>\n",
       "    </tr>\n",
       "    <tr>\n",
       "      <th>2</th>\n",
       "      <td>6947</td>\n",
       "      <td>19056</td>\n",
       "      <td>23293</td>\n",
       "    </tr>\n",
       "    <tr>\n",
       "      <th>3</th>\n",
       "      <td>11230</td>\n",
       "      <td>476</td>\n",
       "      <td>10543</td>\n",
       "    </tr>\n",
       "    <tr>\n",
       "      <th>4</th>\n",
       "      <td>28745</td>\n",
       "      <td>18146</td>\n",
       "      <td>10246</td>\n",
       "    </tr>\n",
       "    <tr>\n",
       "      <th>...</th>\n",
       "      <td>...</td>\n",
       "      <td>...</td>\n",
       "      <td>...</td>\n",
       "    </tr>\n",
       "    <tr>\n",
       "      <th>9995</th>\n",
       "      <td>6308</td>\n",
       "      <td>39612</td>\n",
       "      <td>2669</td>\n",
       "    </tr>\n",
       "    <tr>\n",
       "      <th>9996</th>\n",
       "      <td>47811</td>\n",
       "      <td>23210</td>\n",
       "      <td>8364</td>\n",
       "    </tr>\n",
       "    <tr>\n",
       "      <th>9997</th>\n",
       "      <td>10536</td>\n",
       "      <td>19423</td>\n",
       "      <td>42489</td>\n",
       "    </tr>\n",
       "    <tr>\n",
       "      <th>9998</th>\n",
       "      <td>14748</td>\n",
       "      <td>31059</td>\n",
       "      <td>36296</td>\n",
       "    </tr>\n",
       "    <tr>\n",
       "      <th>9999</th>\n",
       "      <td>47870</td>\n",
       "      <td>25599</td>\n",
       "      <td>30564</td>\n",
       "    </tr>\n",
       "  </tbody>\n",
       "</table>\n",
       "<p>10000 rows × 3 columns</p>\n",
       "</div>"
      ],
      "text/plain": [
       "          c      1      2\n",
       "0     19297  31432  46794\n",
       "1     27727  19003  33558\n",
       "2      6947  19056  23293\n",
       "3     11230    476  10543\n",
       "4     28745  18146  10246\n",
       "...     ...    ...    ...\n",
       "9995   6308  39612   2669\n",
       "9996  47811  23210   8364\n",
       "9997  10536  19423  42489\n",
       "9998  14748  31059  36296\n",
       "9999  47870  25599  30564\n",
       "\n",
       "[10000 rows x 3 columns]"
      ]
     },
     "execution_count": 397,
     "metadata": {},
     "output_type": "execute_result"
    }
   ],
   "source": [
    "# We will use the neighbors array kneigh_n and get it's first neighbor to find whihc is the most famous neighbor predicted by our knn model.\n",
    "# In order to do that let's rename the first column of kneigh_ to a readable name\n",
    "kneigh_n = kneigh_n.rename(columns={0: 'c'})\n",
    "\n",
    "kneigh_n\n",
    "\n",
    "# The column c has the indices of the training label dataset and these are the indices of the first neighbor."
   ]
  },
  {
   "cell_type": "code",
   "execution_count": 399,
   "id": "548e78fd",
   "metadata": {},
   "outputs": [
    {
     "data": {
      "text/html": [
       "<div>\n",
       "<style scoped>\n",
       "    .dataframe tbody tr th:only-of-type {\n",
       "        vertical-align: middle;\n",
       "    }\n",
       "\n",
       "    .dataframe tbody tr th {\n",
       "        vertical-align: top;\n",
       "    }\n",
       "\n",
       "    .dataframe thead th {\n",
       "        text-align: right;\n",
       "    }\n",
       "</style>\n",
       "<table border=\"1\" class=\"dataframe\">\n",
       "  <thead>\n",
       "    <tr style=\"text-align: right;\">\n",
       "      <th></th>\n",
       "      <th>Label</th>\n",
       "      <th>c</th>\n",
       "    </tr>\n",
       "  </thead>\n",
       "  <tbody>\n",
       "    <tr>\n",
       "      <th>0</th>\n",
       "      <td>5</td>\n",
       "      <td>0</td>\n",
       "    </tr>\n",
       "    <tr>\n",
       "      <th>1</th>\n",
       "      <td>0</td>\n",
       "      <td>1</td>\n",
       "    </tr>\n",
       "    <tr>\n",
       "      <th>2</th>\n",
       "      <td>4</td>\n",
       "      <td>2</td>\n",
       "    </tr>\n",
       "    <tr>\n",
       "      <th>3</th>\n",
       "      <td>1</td>\n",
       "      <td>3</td>\n",
       "    </tr>\n",
       "    <tr>\n",
       "      <th>4</th>\n",
       "      <td>9</td>\n",
       "      <td>4</td>\n",
       "    </tr>\n",
       "    <tr>\n",
       "      <th>...</th>\n",
       "      <td>...</td>\n",
       "      <td>...</td>\n",
       "    </tr>\n",
       "    <tr>\n",
       "      <th>59995</th>\n",
       "      <td>8</td>\n",
       "      <td>59995</td>\n",
       "    </tr>\n",
       "    <tr>\n",
       "      <th>59996</th>\n",
       "      <td>3</td>\n",
       "      <td>59996</td>\n",
       "    </tr>\n",
       "    <tr>\n",
       "      <th>59997</th>\n",
       "      <td>5</td>\n",
       "      <td>59997</td>\n",
       "    </tr>\n",
       "    <tr>\n",
       "      <th>59998</th>\n",
       "      <td>6</td>\n",
       "      <td>59998</td>\n",
       "    </tr>\n",
       "    <tr>\n",
       "      <th>59999</th>\n",
       "      <td>8</td>\n",
       "      <td>59999</td>\n",
       "    </tr>\n",
       "  </tbody>\n",
       "</table>\n",
       "<p>60000 rows × 2 columns</p>\n",
       "</div>"
      ],
      "text/plain": [
       "       Label      c\n",
       "0          5      0\n",
       "1          0      1\n",
       "2          4      2\n",
       "3          1      3\n",
       "4          9      4\n",
       "...      ...    ...\n",
       "59995      8  59995\n",
       "59996      3  59996\n",
       "59997      5  59997\n",
       "59998      6  59998\n",
       "59999      8  59999\n",
       "\n",
       "[60000 rows x 2 columns]"
      ]
     },
     "execution_count": 399,
     "metadata": {},
     "output_type": "execute_result"
    }
   ],
   "source": [
    "# Let's get the Training label and create a new column in the dataframe which will hold the index value.\n",
    "train_label_df=pd.DataFrame(train_label)\n",
    "train_label_df['c'] = np.arange(train_label_df.shape[0])\n",
    "train_label_df = train_label_df.rename(columns={0: 'Label'})\n",
    "train_label_df"
   ]
  },
  {
   "cell_type": "code",
   "execution_count": 400,
   "id": "0516eaad",
   "metadata": {},
   "outputs": [
    {
     "data": {
      "text/html": [
       "<div>\n",
       "<style scoped>\n",
       "    .dataframe tbody tr th:only-of-type {\n",
       "        vertical-align: middle;\n",
       "    }\n",
       "\n",
       "    .dataframe tbody tr th {\n",
       "        vertical-align: top;\n",
       "    }\n",
       "\n",
       "    .dataframe thead th {\n",
       "        text-align: right;\n",
       "    }\n",
       "</style>\n",
       "<table border=\"1\" class=\"dataframe\">\n",
       "  <thead>\n",
       "    <tr style=\"text-align: right;\">\n",
       "      <th></th>\n",
       "      <th>c</th>\n",
       "      <th>1</th>\n",
       "      <th>2</th>\n",
       "      <th>Label</th>\n",
       "    </tr>\n",
       "  </thead>\n",
       "  <tbody>\n",
       "    <tr>\n",
       "      <th>0</th>\n",
       "      <td>19297</td>\n",
       "      <td>31432</td>\n",
       "      <td>46794</td>\n",
       "      <td>1</td>\n",
       "    </tr>\n",
       "    <tr>\n",
       "      <th>1</th>\n",
       "      <td>27727</td>\n",
       "      <td>19003</td>\n",
       "      <td>33558</td>\n",
       "      <td>5</td>\n",
       "    </tr>\n",
       "    <tr>\n",
       "      <th>2</th>\n",
       "      <td>6947</td>\n",
       "      <td>19056</td>\n",
       "      <td>23293</td>\n",
       "      <td>7</td>\n",
       "    </tr>\n",
       "    <tr>\n",
       "      <th>3</th>\n",
       "      <td>6947</td>\n",
       "      <td>19056</td>\n",
       "      <td>43510</td>\n",
       "      <td>7</td>\n",
       "    </tr>\n",
       "    <tr>\n",
       "      <th>4</th>\n",
       "      <td>11230</td>\n",
       "      <td>476</td>\n",
       "      <td>10543</td>\n",
       "      <td>2</td>\n",
       "    </tr>\n",
       "    <tr>\n",
       "      <th>...</th>\n",
       "      <td>...</td>\n",
       "      <td>...</td>\n",
       "      <td>...</td>\n",
       "      <td>...</td>\n",
       "    </tr>\n",
       "    <tr>\n",
       "      <th>9995</th>\n",
       "      <td>30254</td>\n",
       "      <td>32562</td>\n",
       "      <td>8472</td>\n",
       "      <td>3</td>\n",
       "    </tr>\n",
       "    <tr>\n",
       "      <th>9996</th>\n",
       "      <td>47168</td>\n",
       "      <td>35500</td>\n",
       "      <td>40098</td>\n",
       "      <td>7</td>\n",
       "    </tr>\n",
       "    <tr>\n",
       "      <th>9997</th>\n",
       "      <td>6308</td>\n",
       "      <td>39612</td>\n",
       "      <td>2669</td>\n",
       "      <td>4</td>\n",
       "    </tr>\n",
       "    <tr>\n",
       "      <th>9998</th>\n",
       "      <td>10536</td>\n",
       "      <td>19423</td>\n",
       "      <td>42489</td>\n",
       "      <td>5</td>\n",
       "    </tr>\n",
       "    <tr>\n",
       "      <th>9999</th>\n",
       "      <td>47870</td>\n",
       "      <td>25599</td>\n",
       "      <td>30564</td>\n",
       "      <td>9</td>\n",
       "    </tr>\n",
       "  </tbody>\n",
       "</table>\n",
       "<p>10000 rows × 4 columns</p>\n",
       "</div>"
      ],
      "text/plain": [
       "          c      1      2  Label\n",
       "0     19297  31432  46794      1\n",
       "1     27727  19003  33558      5\n",
       "2      6947  19056  23293      7\n",
       "3      6947  19056  43510      7\n",
       "4     11230    476  10543      2\n",
       "...     ...    ...    ...    ...\n",
       "9995  30254  32562   8472      3\n",
       "9996  47168  35500  40098      7\n",
       "9997   6308  39612   2669      4\n",
       "9998  10536  19423  42489      5\n",
       "9999  47870  25599  30564      9\n",
       "\n",
       "[10000 rows x 4 columns]"
      ]
     },
     "execution_count": 400,
     "metadata": {},
     "output_type": "execute_result"
    }
   ],
   "source": [
    "# Let's merge both datframes so that the final dataframe will have the neighbor indices and the corresponding label values\n",
    "kneigh_n_label=kneigh_n.merge(train_label_df, on='c')\n",
    "kneigh_n_label\n",
    "\n",
    "# Now we can see that the first neighbor's trainng inex is in column 'c' and the corresponding column label is in column 'Label'"
   ]
  },
  {
   "cell_type": "code",
   "execution_count": 401,
   "id": "42b23e03",
   "metadata": {},
   "outputs": [
    {
     "data": {
      "text/plain": [
       "Counter({1: 1221,\n",
       "         5: 893,\n",
       "         7: 1006,\n",
       "         2: 979,\n",
       "         8: 954,\n",
       "         0: 997,\n",
       "         6: 949,\n",
       "         9: 997,\n",
       "         3: 1011,\n",
       "         4: 993})"
      ]
     },
     "execution_count": 401,
     "metadata": {},
     "output_type": "execute_result"
    }
   ],
   "source": [
    "# In order to find the most famous nearest neighbor we can use the Counter function from the collections package to see which is the most famous predicted fisrt neighbor\n",
    "from collections import Counter\n",
    "Counter(kneigh_n_label['Label'])\n"
   ]
  },
  {
   "cell_type": "markdown",
   "id": "01d72777",
   "metadata": {},
   "source": [
    "From above we can see that 1 has been predicted as the most common first neighbor by our knn model"
   ]
  },
  {
   "cell_type": "code",
   "execution_count": 402,
   "id": "95046173",
   "metadata": {},
   "outputs": [
    {
     "data": {
      "text/plain": [
       "Counter({7: 1026,\n",
       "         2: 1012,\n",
       "         1: 1181,\n",
       "         0: 1012,\n",
       "         4: 968,\n",
       "         9: 1016,\n",
       "         5: 887,\n",
       "         6: 962,\n",
       "         3: 1016,\n",
       "         8: 920})"
      ]
     },
     "execution_count": 402,
     "metadata": {},
     "output_type": "execute_result"
    }
   ],
   "source": [
    "# Similarly we can find the most predicted value in our predicted set by the Counter function again\n",
    "Counter(pred_f)\n"
   ]
  },
  {
   "cell_type": "markdown",
   "id": "8a6ff529",
   "metadata": {},
   "source": [
    "From above we can confirm that 1 has been predicted the most from the test dataset which coincides with the most number of nearest neighbors."
   ]
  },
  {
   "cell_type": "markdown",
   "id": "84c22fae",
   "metadata": {},
   "source": [
    "**Confusion Matrix**"
   ]
  },
  {
   "cell_type": "code",
   "execution_count": 141,
   "id": "db776a43",
   "metadata": {},
   "outputs": [
    {
     "data": {
      "image/png": "[encoded data removed]",
      "text/plain": [
       "<Figure size 432x288 with 2 Axes>"
      ]
     },
     "metadata": {
      "needs_background": "light"
     },
     "output_type": "display_data"
    }
   ],
   "source": [
    "from sklearn.metrics import plot_confusion_matrix\n",
    "plot_confusion_matrix(model_f, test_data, test_label,cmap=plt.cm.Blues)\n",
    "plt.show()  "
   ]
  },
  {
   "cell_type": "markdown",
   "id": "a677d80b",
   "metadata": {},
   "source": [
    "**Error Rate Calculation**"
   ]
  },
  {
   "cell_type": "code",
   "execution_count": 144,
   "id": "4f25e03a",
   "metadata": {},
   "outputs": [],
   "source": [
    "error_rate = []\n",
    "# Might take some time\n",
    "for i in range(1,10):\n",
    "    \n",
    "    knn = KNeighborsClassifier(n_neighbors=i)\n",
    "    knn.fit(trainData,trainLabel)\n",
    "    pred_i = knn.predict(test_data)\n",
    "    error_rate.append(np.mean(pred_i != test_label))"
   ]
  },
  {
   "cell_type": "code",
   "execution_count": 145,
   "id": "85074f85",
   "metadata": {},
   "outputs": [
    {
     "data": {
      "text/plain": [
       "Text(0, 0.5, 'Error Rate')"
      ]
     },
     "execution_count": 145,
     "metadata": {},
     "output_type": "execute_result"
    },
    {
     "data": {
      "image/png": "[encoded data removed]",
      "text/plain": [
       "<Figure size 720x432 with 1 Axes>"
      ]
     },
     "metadata": {
      "needs_background": "light"
     },
     "output_type": "display_data"
    }
   ],
   "source": [
    "plt.figure(figsize=(10,6))\n",
    "plt.plot(range(1,10),error_rate,color='blue', linestyle='dashed', marker='o',\n",
    "         markerfacecolor='red', markersize=10)\n",
    "plt.title('Error Rate vs. K Value')\n",
    "plt.xlabel('K')\n",
    "plt.ylabel('Error Rate')"
   ]
  },
  {
   "cell_type": "markdown",
   "id": "2ac4cabd",
   "metadata": {},
   "source": [
    "We can see above the error has been plotted for different k values. As portrayed above the error is the lowest at k=3 with an error rate of 0.0312."
   ]
  },
  {
   "cell_type": "markdown",
   "id": "59708094",
   "metadata": {},
   "source": []
  },
  {
   "cell_type": "markdown",
   "id": "ba4807d9",
   "metadata": {},
   "source": [
    "**Calculate the ROC for KNN**"
   ]
  },
  {
   "cell_type": "code",
   "execution_count": 199,
   "id": "b964af7e",
   "metadata": {},
   "outputs": [],
   "source": [
    "knn_probs=model_f.predict_proba(test_data)"
   ]
  },
  {
   "cell_type": "markdown",
   "id": "911606de",
   "metadata": {},
   "source": [
    "First we need to calculate the predictive probability of the knn model and then use the roc_auc_score from the scikit learn package to get the roc_auc_score"
   ]
  },
  {
   "cell_type": "code",
   "execution_count": 208,
   "id": "ce8a98e3",
   "metadata": {},
   "outputs": [],
   "source": [
    "from sklearn.metrics import roc_curve\n",
    "from sklearn.metrics import roc_auc_score\n",
    "from sklearn.metrics import auc"
   ]
  },
  {
   "cell_type": "code",
   "execution_count": 325,
   "id": "ac15fb85",
   "metadata": {},
   "outputs": [
    {
     "name": "stdout",
     "output_type": "stream",
     "text": [
      "label = 0 auc = 0.9973163378433414\n",
      "label = 1 auc = 0.9979642756869439\n",
      "label = 2 auc = 0.9894021335117454\n",
      "label = 3 auc = 0.9913556316699523\n",
      "label = 4 auc = 0.9924075813071752\n",
      "label = 5 auc = 0.9926645082133481\n",
      "label = 6 auc = 0.9954374367080279\n",
      "label = 7 auc = 0.989505016471478\n",
      "label = 8 auc = 0.9863014376446598\n",
      "label = 9 auc = 0.991255819193271\n"
     ]
    }
   ],
   "source": [
    "\n",
    "# Let's get the AUC for all the individual labels \n",
    "\n",
    "for i in np.arange(0,10,1):\n",
    "    fpr, tpr, threshold = roc_curve(test_label, knn_probs[:, i],pos_label=i)\n",
    "    roc_auc = auc(fpr, tpr)\n",
    "    print(\"label =\",i, \"auc =\", roc_auc)"
   ]
  },
  {
   "cell_type": "code",
   "execution_count": 326,
   "id": "ed3fa23d",
   "metadata": {},
   "outputs": [
    {
     "data": {
      "text/plain": [
       "0.9923610178249941"
      ]
     },
     "execution_count": 326,
     "metadata": {},
     "output_type": "execute_result"
    }
   ],
   "source": [
    "# The overall Area under the curve can be given by the function roc_auc_curve\n",
    "roc_auc_score=roc_auc_score(test_label, knn_probs,multi_class='ovr')\n",
    "roc_auc_score"
   ]
  },
  {
   "cell_type": "markdown",
   "id": "46ba5936",
   "metadata": {},
   "source": [
    "The AUC of the overaall model is close to 1 meaning the model is able to efficiently distinguish between the positive and negative classes accurately"
   ]
  },
  {
   "cell_type": "markdown",
   "id": "b12b8726",
   "metadata": {},
   "source": [
    "We can plot the overall ROC curve for the model as shown below "
   ]
  },
  {
   "cell_type": "code",
   "execution_count": 329,
   "id": "8f7b3655",
   "metadata": {},
   "outputs": [
    {
     "data": {
      "image/png": "[encoded data removed]",
      "text/plain": [
       "<Figure size 432x288 with 1 Axes>"
      ]
     },
     "metadata": {
      "needs_background": "light"
     },
     "output_type": "display_data"
    }
   ],
   "source": [
    "plt.title('Receiver Operating Characteristic')\n",
    "plt.plot(fpr, tpr, 'b', label = 'AUC = %0.4f' % roc_auc_score)\n",
    "plt.legend(loc = 'lower right')\n",
    "plt.plot([0, 1], [0, 1],'r--')\n",
    "plt.xlim([0, 1])\n",
    "plt.ylim([0, 1])\n",
    "plt.ylabel('True Positive Rate')\n",
    "plt.xlabel('False Positive Rate')\n",
    "plt.title('ROC Curve of kNN')\n",
    "plt.show()"
   ]
  },
  {
   "cell_type": "code",
   "execution_count": null,
   "id": "6b947743",
   "metadata": {},
   "outputs": [],
   "source": []
  },
  {
   "cell_type": "code",
   "execution_count": null,
   "id": "716fccf8",
   "metadata": {},
   "outputs": [],
   "source": []
  },
  {
   "cell_type": "code",
   "execution_count": null,
   "id": "b472a22f",
   "metadata": {},
   "outputs": [],
   "source": []
  },
  {
   "cell_type": "code",
   "execution_count": null,
   "id": "430c7290",
   "metadata": {},
   "outputs": [],
   "source": []
  },
  {
   "cell_type": "code",
   "execution_count": null,
   "id": "6b4bfe38",
   "metadata": {},
   "outputs": [],
   "source": []
  },
  {
   "cell_type": "code",
   "execution_count": null,
   "id": "9dcc8451",
   "metadata": {},
   "outputs": [],
   "source": []
  },
  {
   "cell_type": "code",
   "execution_count": null,
   "id": "45777564",
   "metadata": {},
   "outputs": [],
   "source": []
  },
  {
   "cell_type": "code",
   "execution_count": null,
   "id": "d2304c9f",
   "metadata": {},
   "outputs": [],
   "source": [
    "\n"
   ]
  },
  {
   "cell_type": "code",
   "execution_count": null,
   "id": "048aacf7",
   "metadata": {},
   "outputs": [],
   "source": []
  },
  {
   "cell_type": "code",
   "execution_count": null,
   "id": "5e2f5735",
   "metadata": {},
   "outputs": [],
   "source": []
  },
  {
   "cell_type": "code",
   "execution_count": null,
   "id": "2a0c026b",
   "metadata": {},
   "outputs": [],
   "source": []
  },
  {
   "cell_type": "code",
   "execution_count": null,
   "id": "74343f06",
   "metadata": {},
   "outputs": [],
   "source": []
  },
  {
   "cell_type": "code",
   "execution_count": null,
   "id": "e9bc09d8",
   "metadata": {},
   "outputs": [],
   "source": []
  },
  {
   "cell_type": "code",
   "execution_count": null,
   "id": "c32cc10f",
   "metadata": {},
   "outputs": [],
   "source": []
  },
  {
   "cell_type": "code",
   "execution_count": null,
   "id": "7f870063",
   "metadata": {},
   "outputs": [],
   "source": []
  },
  {
   "cell_type": "code",
   "execution_count": null,
   "id": "ddbaa04d",
   "metadata": {},
   "outputs": [],
   "source": []
  },
  {
   "cell_type": "code",
   "execution_count": null,
   "id": "47a9aeb5",
   "metadata": {},
   "outputs": [],
   "source": []
  }
 ],
 "metadata": {
  "kernelspec": {
   "display_name": "Python 3",
   "language": "python",
   "name": "python3"
  },
  "language_info": {
   "codemirror_mode": {
    "name": "ipython",
    "version": 3
   },
   "file_extension": ".py",
   "mimetype": "text/x-python",
   "name": "python",
   "nbconvert_exporter": "python",
   "pygments_lexer": "ipython3",
   "version": "3.8.8"
  }
 },
 "nbformat": 4,
 "nbformat_minor": 5
}
